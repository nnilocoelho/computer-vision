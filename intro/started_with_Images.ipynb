{
 "cells": [
  {
   "cell_type": "code",
   "execution_count": 7,
   "metadata": {},
   "outputs": [],
   "source": [
    "# Import Libraries\n",
    "\n",
    "import cv2\n",
    "import numpy as np\n",
    "import matplotlib.pyplot as plt\n",
    "%matplotlib inline\n",
    "from IPython.display import Image"
   ]
  },
  {
   "cell_type": "code",
   "execution_count": 30,
   "metadata": {},
   "outputs": [
    {
     "data": {
      "image/png": "[encoded data removed]",
      "text/plain": [
       "<IPython.core.display.Image object>"
      ]
     },
     "execution_count": 30,
     "metadata": {},
     "output_type": "execute_result"
    }
   ],
   "source": [
    "# Exibir Imagem\n",
    "Image(filename='../intro/checkerboard_18x18.png')"
   ]
  },
  {
   "cell_type": "code",
   "execution_count": 33,
   "metadata": {},
   "outputs": [
    {
     "data": {
      "image/jpeg": "[encoded data removed]",
      "text/plain": [
       "<IPython.core.display.Image object>"
      ]
     },
     "execution_count": 33,
     "metadata": {},
     "output_type": "execute_result"
    }
   ],
   "source": [
    "# Exibir Imagem\n",
    "Image(filename='../intro/checkerboard_84x84.jpg')"
   ]
  },
  {
   "cell_type": "markdown",
   "metadata": {},
   "source": [
    "#### Leitura de imagens utilizando OpenCV\n",
    "\n",
    " - Podemos carregar imagens em tons de cinza, imagens coloridas ou também pode carregar imagens com canal Alpha.\n",
    "\n",
    " - Sintaxe retval = cv2.imread( filename[, flags] )\n",
    "\n",
    " - Flags\n",
    "\n",
    "    - cv2.IMREAD_GRAYSCALE or 0: carregar imagens no modo escala de cinzas\n",
    "    - cv2.IMREAD_COLOR or 1: carregar imagens coloridas.\n",
    "    - cv2.IMREAD_UNCHANGED or -1: carregar imagens incluindo o canal alpha."
   ]
  },
  {
   "cell_type": "code",
   "execution_count": 34,
   "metadata": {},
   "outputs": [
    {
     "name": "stdout",
     "output_type": "stream",
     "text": [
      "[[  0   0   0   0   0   0 255 255 255 255 255 255   0   0   0   0   0   0]\n",
      " [  0   0   0   0   0   0 255 255 255 255 255 255   0   0   0   0   0   0]\n",
      " [  0   0   0   0   0   0 255 255 255 255 255 255   0   0   0   0   0   0]\n",
      " [  0   0   0   0   0   0 255 255 255 255 255 255   0   0   0   0   0   0]\n",
      " [  0   0   0   0   0   0 255 255 255 255 255 255   0   0   0   0   0   0]\n",
      " [  0   0   0   0   0   0 255 255 255 255 255 255   0   0   0   0   0   0]\n",
      " [255 255 255 255 255 255   0   0   0   0   0   0 255 255 255 255 255 255]\n",
      " [255 255 255 255 255 255   0   0   0   0   0   0 255 255 255 255 255 255]\n",
      " [255 255 255 255 255 255   0   0   0   0   0   0 255 255 255 255 255 255]\n",
      " [255 255 255 255 255 255   0   0   0   0   0   0 255 255 255 255 255 255]\n",
      " [255 255 255 255 255 255   0   0   0   0   0   0 255 255 255 255 255 255]\n",
      " [255 255 255 255 255 255   0   0   0   0   0   0 255 255 255 255 255 255]\n",
      " [  0   0   0   0   0   0 255 255 255 255 255 255   0   0   0   0   0   0]\n",
      " [  0   0   0   0   0   0 255 255 255 255 255 255   0   0   0   0   0   0]\n",
      " [  0   0   0   0   0   0 255 255 255 255 255 255   0   0   0   0   0   0]\n",
      " [  0   0   0   0   0   0 255 255 255 255 255 255   0   0   0   0   0   0]\n",
      " [  0   0   0   0   0   0 255 255 255 255 255 255   0   0   0   0   0   0]\n",
      " [  0   0   0   0   0   0 255 255 255 255 255 255   0   0   0   0   0   0]]\n"
     ]
    }
   ],
   "source": [
    "cinza = cv2.imread(\"../intro/checkerboard_18x18.png\", 0)\n",
    "print(cinza)"
   ]
  },
  {
   "cell_type": "code",
   "execution_count": 35,
   "metadata": {},
   "outputs": [
    {
     "name": "stdout",
     "output_type": "stream",
     "text": [
      "[[[  0   0   0]\n",
      "  [  0   0   0]\n",
      "  [  0   0   0]\n",
      "  [  0   0   0]\n",
      "  [  0   0   0]\n",
      "  [  0   0   0]\n",
      "  [255 255 255]\n",
      "  [255 255 255]\n",
      "  [255 255 255]\n",
      "  [255 255 255]\n",
      "  [255 255 255]\n",
      "  [255 255 255]\n",
      "  [  0   0   0]\n",
      "  [  0   0   0]\n",
      "  [  0   0   0]\n",
      "  [  0   0   0]\n",
      "  [  0   0   0]\n",
      "  [  0   0   0]]\n",
      "\n",
      " [[  0   0   0]\n",
      "  [  0   0   0]\n",
      "  [  0   0   0]\n",
      "  [  0   0   0]\n",
      "  [  0   0   0]\n",
      "  [  0   0   0]\n",
      "  [255 255 255]\n",
      "  [255 255 255]\n",
      "  [255 255 255]\n",
      "  [255 255 255]\n",
      "  [255 255 255]\n",
      "  [255 255 255]\n",
      "  [  0   0   0]\n",
      "  [  0   0   0]\n",
      "  [  0   0   0]\n",
      "  [  0   0   0]\n",
      "  [  0   0   0]\n",
      "  [  0   0   0]]\n",
      "\n",
      " [[  0   0   0]\n",
      "  [  0   0   0]\n",
      "  [  0   0   0]\n",
      "  [  0   0   0]\n",
      "  [  0   0   0]\n",
      "  [  0   0   0]\n",
      "  [255 255 255]\n",
      "  [255 255 255]\n",
      "  [255 255 255]\n",
      "  [255 255 255]\n",
      "  [255 255 255]\n",
      "  [255 255 255]\n",
      "  [  0   0   0]\n",
      "  [  0   0   0]\n",
      "  [  0   0   0]\n",
      "  [  0   0   0]\n",
      "  [  0   0   0]\n",
      "  [  0   0   0]]\n",
      "\n",
      " [[  0   0   0]\n",
      "  [  0   0   0]\n",
      "  [  0   0   0]\n",
      "  [  0   0   0]\n",
      "  [  0   0   0]\n",
      "  [  0   0   0]\n",
      "  [255 255 255]\n",
      "  [255 255 255]\n",
      "  [255 255 255]\n",
      "  [255 255 255]\n",
      "  [255 255 255]\n",
      "  [255 255 255]\n",
      "  [  0   0   0]\n",
      "  [  0   0   0]\n",
      "  [  0   0   0]\n",
      "  [  0   0   0]\n",
      "  [  0   0   0]\n",
      "  [  0   0   0]]\n",
      "\n",
      " [[  0   0   0]\n",
      "  [  0   0   0]\n",
      "  [  0   0   0]\n",
      "  [  0   0   0]\n",
      "  [  0   0   0]\n",
      "  [  0   0   0]\n",
      "  [255 255 255]\n",
      "  [255 255 255]\n",
      "  [255 255 255]\n",
      "  [255 255 255]\n",
      "  [255 255 255]\n",
      "  [255 255 255]\n",
      "  [  0   0   0]\n",
      "  [  0   0   0]\n",
      "  [  0   0   0]\n",
      "  [  0   0   0]\n",
      "  [  0   0   0]\n",
      "  [  0   0   0]]\n",
      "\n",
      " [[  0   0   0]\n",
      "  [  0   0   0]\n",
      "  [  0   0   0]\n",
      "  [  0   0   0]\n",
      "  [  0   0   0]\n",
      "  [  0   0   0]\n",
      "  [255 255 255]\n",
      "  [255 255 255]\n",
      "  [255 255 255]\n",
      "  [255 255 255]\n",
      "  [255 255 255]\n",
      "  [255 255 255]\n",
      "  [  0   0   0]\n",
      "  [  0   0   0]\n",
      "  [  0   0   0]\n",
      "  [  0   0   0]\n",
      "  [  0   0   0]\n",
      "  [  0   0   0]]\n",
      "\n",
      " [[255 255 255]\n",
      "  [255 255 255]\n",
      "  [255 255 255]\n",
      "  [255 255 255]\n",
      "  [255 255 255]\n",
      "  [255 255 255]\n",
      "  [  0   0   0]\n",
      "  [  0   0   0]\n",
      "  [  0   0   0]\n",
      "  [  0   0   0]\n",
      "  [  0   0   0]\n",
      "  [  0   0   0]\n",
      "  [255 255 255]\n",
      "  [255 255 255]\n",
      "  [255 255 255]\n",
      "  [255 255 255]\n",
      "  [255 255 255]\n",
      "  [255 255 255]]\n",
      "\n",
      " [[255 255 255]\n",
      "  [255 255 255]\n",
      "  [255 255 255]\n",
      "  [255 255 255]\n",
      "  [255 255 255]\n",
      "  [255 255 255]\n",
      "  [  0   0   0]\n",
      "  [  0   0   0]\n",
      "  [  0   0   0]\n",
      "  [  0   0   0]\n",
      "  [  0   0   0]\n",
      "  [  0   0   0]\n",
      "  [255 255 255]\n",
      "  [255 255 255]\n",
      "  [255 255 255]\n",
      "  [255 255 255]\n",
      "  [255 255 255]\n",
      "  [255 255 255]]\n",
      "\n",
      " [[255 255 255]\n",
      "  [255 255 255]\n",
      "  [255 255 255]\n",
      "  [255 255 255]\n",
      "  [255 255 255]\n",
      "  [255 255 255]\n",
      "  [  0   0   0]\n",
      "  [  0   0   0]\n",
      "  [  0   0   0]\n",
      "  [  0   0   0]\n",
      "  [  0   0   0]\n",
      "  [  0   0   0]\n",
      "  [255 255 255]\n",
      "  [255 255 255]\n",
      "  [255 255 255]\n",
      "  [255 255 255]\n",
      "  [255 255 255]\n",
      "  [255 255 255]]\n",
      "\n",
      " [[255 255 255]\n",
      "  [255 255 255]\n",
      "  [255 255 255]\n",
      "  [255 255 255]\n",
      "  [255 255 255]\n",
      "  [255 255 255]\n",
      "  [  0   0   0]\n",
      "  [  0   0   0]\n",
      "  [  0   0   0]\n",
      "  [  0   0   0]\n",
      "  [  0   0   0]\n",
      "  [  0   0   0]\n",
      "  [255 255 255]\n",
      "  [255 255 255]\n",
      "  [255 255 255]\n",
      "  [255 255 255]\n",
      "  [255 255 255]\n",
      "  [255 255 255]]\n",
      "\n",
      " [[255 255 255]\n",
      "  [255 255 255]\n",
      "  [255 255 255]\n",
      "  [255 255 255]\n",
      "  [255 255 255]\n",
      "  [255 255 255]\n",
      "  [  0   0   0]\n",
      "  [  0   0   0]\n",
      "  [  0   0   0]\n",
      "  [  0   0   0]\n",
      "  [  0   0   0]\n",
      "  [  0   0   0]\n",
      "  [255 255 255]\n",
      "  [255 255 255]\n",
      "  [255 255 255]\n",
      "  [255 255 255]\n",
      "  [255 255 255]\n",
      "  [255 255 255]]\n",
      "\n",
      " [[255 255 255]\n",
      "  [255 255 255]\n",
      "  [255 255 255]\n",
      "  [255 255 255]\n",
      "  [255 255 255]\n",
      "  [255 255 255]\n",
      "  [  0   0   0]\n",
      "  [  0   0   0]\n",
      "  [  0   0   0]\n",
      "  [  0   0   0]\n",
      "  [  0   0   0]\n",
      "  [  0   0   0]\n",
      "  [255 255 255]\n",
      "  [255 255 255]\n",
      "  [255 255 255]\n",
      "  [255 255 255]\n",
      "  [255 255 255]\n",
      "  [255 255 255]]\n",
      "\n",
      " [[  0   0   0]\n",
      "  [  0   0   0]\n",
      "  [  0   0   0]\n",
      "  [  0   0   0]\n",
      "  [  0   0   0]\n",
      "  [  0   0   0]\n",
      "  [255 255 255]\n",
      "  [255 255 255]\n",
      "  [255 255 255]\n",
      "  [255 255 255]\n",
      "  [255 255 255]\n",
      "  [255 255 255]\n",
      "  [  0   0   0]\n",
      "  [  0   0   0]\n",
      "  [  0   0   0]\n",
      "  [  0   0   0]\n",
      "  [  0   0   0]\n",
      "  [  0   0   0]]\n",
      "\n",
      " [[  0   0   0]\n",
      "  [  0   0   0]\n",
      "  [  0   0   0]\n",
      "  [  0   0   0]\n",
      "  [  0   0   0]\n",
      "  [  0   0   0]\n",
      "  [255 255 255]\n",
      "  [255 255 255]\n",
      "  [255 255 255]\n",
      "  [255 255 255]\n",
      "  [255 255 255]\n",
      "  [255 255 255]\n",
      "  [  0   0   0]\n",
      "  [  0   0   0]\n",
      "  [  0   0   0]\n",
      "  [  0   0   0]\n",
      "  [  0   0   0]\n",
      "  [  0   0   0]]\n",
      "\n",
      " [[  0   0   0]\n",
      "  [  0   0   0]\n",
      "  [  0   0   0]\n",
      "  [  0   0   0]\n",
      "  [  0   0   0]\n",
      "  [  0   0   0]\n",
      "  [255 255 255]\n",
      "  [255 255 255]\n",
      "  [255 255 255]\n",
      "  [255 255 255]\n",
      "  [255 255 255]\n",
      "  [255 255 255]\n",
      "  [  0   0   0]\n",
      "  [  0   0   0]\n",
      "  [  0   0   0]\n",
      "  [  0   0   0]\n",
      "  [  0   0   0]\n",
      "  [  0   0   0]]\n",
      "\n",
      " [[  0   0   0]\n",
      "  [  0   0   0]\n",
      "  [  0   0   0]\n",
      "  [  0   0   0]\n",
      "  [  0   0   0]\n",
      "  [  0   0   0]\n",
      "  [255 255 255]\n",
      "  [255 255 255]\n",
      "  [255 255 255]\n",
      "  [255 255 255]\n",
      "  [255 255 255]\n",
      "  [255 255 255]\n",
      "  [  0   0   0]\n",
      "  [  0   0   0]\n",
      "  [  0   0   0]\n",
      "  [  0   0   0]\n",
      "  [  0   0   0]\n",
      "  [  0   0   0]]\n",
      "\n",
      " [[  0   0   0]\n",
      "  [  0   0   0]\n",
      "  [  0   0   0]\n",
      "  [  0   0   0]\n",
      "  [  0   0   0]\n",
      "  [  0   0   0]\n",
      "  [255 255 255]\n",
      "  [255 255 255]\n",
      "  [255 255 255]\n",
      "  [255 255 255]\n",
      "  [255 255 255]\n",
      "  [255 255 255]\n",
      "  [  0   0   0]\n",
      "  [  0   0   0]\n",
      "  [  0   0   0]\n",
      "  [  0   0   0]\n",
      "  [  0   0   0]\n",
      "  [  0   0   0]]\n",
      "\n",
      " [[  0   0   0]\n",
      "  [  0   0   0]\n",
      "  [  0   0   0]\n",
      "  [  0   0   0]\n",
      "  [  0   0   0]\n",
      "  [  0   0   0]\n",
      "  [255 255 255]\n",
      "  [255 255 255]\n",
      "  [255 255 255]\n",
      "  [255 255 255]\n",
      "  [255 255 255]\n",
      "  [255 255 255]\n",
      "  [  0   0   0]\n",
      "  [  0   0   0]\n",
      "  [  0   0   0]\n",
      "  [  0   0   0]\n",
      "  [  0   0   0]\n",
      "  [  0   0   0]]]\n"
     ]
    }
   ],
   "source": [
    "colorida = cv2.imread(\"../intro/checkerboard_18x18.png\", 1)\n",
    "print(colorida)"
   ]
  },
  {
   "cell_type": "code",
   "execution_count": 36,
   "metadata": {},
   "outputs": [
    {
     "name": "stdout",
     "output_type": "stream",
     "text": [
      "[[  0   0   0   0   0   0 255 255 255 255 255 255   0   0   0   0   0   0]\n",
      " [  0   0   0   0   0   0 255 255 255 255 255 255   0   0   0   0   0   0]\n",
      " [  0   0   0   0   0   0 255 255 255 255 255 255   0   0   0   0   0   0]\n",
      " [  0   0   0   0   0   0 255 255 255 255 255 255   0   0   0   0   0   0]\n",
      " [  0   0   0   0   0   0 255 255 255 255 255 255   0   0   0   0   0   0]\n",
      " [  0   0   0   0   0   0 255 255 255 255 255 255   0   0   0   0   0   0]\n",
      " [255 255 255 255 255 255   0   0   0   0   0   0 255 255 255 255 255 255]\n",
      " [255 255 255 255 255 255   0   0   0   0   0   0 255 255 255 255 255 255]\n",
      " [255 255 255 255 255 255   0   0   0   0   0   0 255 255 255 255 255 255]\n",
      " [255 255 255 255 255 255   0   0   0   0   0   0 255 255 255 255 255 255]\n",
      " [255 255 255 255 255 255   0   0   0   0   0   0 255 255 255 255 255 255]\n",
      " [255 255 255 255 255 255   0   0   0   0   0   0 255 255 255 255 255 255]\n",
      " [  0   0   0   0   0   0 255 255 255 255 255 255   0   0   0   0   0   0]\n",
      " [  0   0   0   0   0   0 255 255 255 255 255 255   0   0   0   0   0   0]\n",
      " [  0   0   0   0   0   0 255 255 255 255 255 255   0   0   0   0   0   0]\n",
      " [  0   0   0   0   0   0 255 255 255 255 255 255   0   0   0   0   0   0]\n",
      " [  0   0   0   0   0   0 255 255 255 255 255 255   0   0   0   0   0   0]\n",
      " [  0   0   0   0   0   0 255 255 255 255 255 255   0   0   0   0   0   0]]\n"
     ]
    }
   ],
   "source": [
    "alpha = cv2.imread(\"../intro/checkerboard_18x18.png\", -1)\n",
    "print(alpha)"
   ]
  },
  {
   "cell_type": "code",
   "execution_count": 37,
   "metadata": {},
   "outputs": [
    {
     "name": "stdout",
     "output_type": "stream",
     "text": [
      "Image size is  (18, 18)\n",
      "Data type of image is  uint8\n"
     ]
    }
   ],
   "source": [
    "# Exibir atributos da imagem\n",
    "\n",
    "# Tamanho da imagem\n",
    "print(\"Image size is \", cinza.shape)\n",
    "\n",
    "# Dados da imagem\n",
    "print(\"Data type of image is \", cinza.dtype)"
   ]
  },
  {
   "cell_type": "code",
   "execution_count": 38,
   "metadata": {},
   "outputs": [
    {
     "data": {
      "text/plain": [
       "<matplotlib.image.AxesImage at 0x7f86a0cfd690>"
      ]
     },
     "execution_count": 38,
     "metadata": {},
     "output_type": "execute_result"
    },
    {
     "data": {
      "image/png": "[encoded data removed]",
      "text/plain": [
       "<Figure size 432x288 with 1 Axes>"
      ]
     },
     "metadata": {
      "needs_background": "light"
     },
     "output_type": "display_data"
    }
   ],
   "source": [
    "# Exibir imagens usando Matplotlib\n",
    "plt.imshow(cinza)"
   ]
  },
  {
   "cell_type": "code",
   "execution_count": 39,
   "metadata": {},
   "outputs": [
    {
     "data": {
      "text/plain": [
       "<matplotlib.image.AxesImage at 0x7f869eb9faf0>"
      ]
     },
     "execution_count": 39,
     "metadata": {},
     "output_type": "execute_result"
    },
    {
     "data": {
      "image/png": "[encoded data removed]",
      "text/plain": [
       "<Figure size 432x288 with 1 Axes>"
      ]
     },
     "metadata": {
      "needs_background": "light"
     },
     "output_type": "display_data"
    }
   ],
   "source": [
    "# Utilização de mapa de cores.\n",
    "plt.imshow(cinza, cmap='gray')"
   ]
  },
  {
   "cell_type": "code",
   "execution_count": 40,
   "metadata": {},
   "outputs": [
    {
     "data": {
      "text/plain": [
       "<matplotlib.image.AxesImage at 0x7f869ea25420>"
      ]
     },
     "execution_count": 40,
     "metadata": {},
     "output_type": "execute_result"
    },
    {
     "data": {
      "image/png": "[encoded data removed]",
      "text/plain": [
       "<Figure size 432x288 with 1 Axes>"
      ]
     },
     "metadata": {
      "needs_background": "light"
     },
     "output_type": "display_data"
    }
   ],
   "source": [
    "plt.imshow(alpha, cmap='Accent')"
   ]
  },
  {
   "cell_type": "code",
   "execution_count": 41,
   "metadata": {},
   "outputs": [
    {
     "name": "stdout",
     "output_type": "stream",
     "text": [
      "[[  0   0  15  20   1 134 233 253 253 253 255 229 130   1  29   2   0   0]\n",
      " [  0   1   5  18   0 137 232 255 254 247 255 228 129   0  24   2   0   0]\n",
      " [  7   5   2  28   2 139 230 254 255 249 255 226 128   0  27   3   2   2]\n",
      " [ 25  27  28  38   0 129 236 255 253 249 251 227 129   0  36  27  27  27]\n",
      " [  2   0   0   4   2 130 239 254 254 254 255 230 126   0   4   2   0   0]\n",
      " [132 129 131 124 121 163 211 226 227 225 226 203 164 125 125 129 131 131]\n",
      " [234 227 230 229 232 205 151 115 125 124 117 156 205 232 229 225 228 228]\n",
      " [254 255 255 251 255 222 102   1   0   0   0 120 225 255 254 255 255 255]\n",
      " [254 255 254 255 253 225 104   0  50  46   0 120 233 254 247 253 251 253]\n",
      " [252 250 250 253 254 223 105   2  45  50   0 127 223 255 251 255 251 253]\n",
      " [254 255 255 252 255 226 104   0   1   1   0 120 229 255 255 254 255 255]\n",
      " [233 235 231 233 234 207 142 106 108 102 108 146 207 235 237 232 231 231]\n",
      " [132 132 131 132 130 175 207 223 224 224 224 210 165 134 130 136 134 134]\n",
      " [  1   1   3   0   0 129 238 255 254 252 255 233 126   0   0   0   0   0]\n",
      " [ 20  19  30  40   5 130 236 253 252 249 255 224 129   0  39  23  21  21]\n",
      " [ 12   6   7  27   0 131 234 255 254 250 254 230 123   1  28   5  10  10]\n",
      " [  0   0   9  22   1 133 233 255 253 253 254 230 129   1  26   2   0   0]\n",
      " [  0   0   9  22   1 132 233 255 253 253 254 230 129   1  26   2   0   0]]\n"
     ]
    },
    {
     "data": {
      "text/plain": [
       "<matplotlib.image.AxesImage at 0x7f869ea853f0>"
      ]
     },
     "execution_count": 41,
     "metadata": {},
     "output_type": "execute_result"
    },
    {
     "data": {
      "image/png": "[encoded data removed]",
      "text/plain": [
       "<Figure size 432x288 with 1 Axes>"
      ]
     },
     "metadata": {
      "needs_background": "light"
     },
     "output_type": "display_data"
    }
   ],
   "source": [
    "# Ler imagem em escala de cinza\n",
    "cb_img_fuzzy = cv2.imread(\"../intro/checkerboard_fuzzy_18x18.jpg\",0)\n",
    "\n",
    "# Exibir Escala Imagem\n",
    "print(cb_img_fuzzy)\n",
    "\n",
    "# Exibir Imagem \n",
    "plt.imshow(cb_img_fuzzy,cmap='gray')"
   ]
  }
 ],
 "metadata": {
  "kernelspec": {
   "display_name": "Python 3.10.4 64-bit",
   "language": "python",
   "name": "python3"
  },
  "language_info": {
   "codemirror_mode": {
    "name": "ipython",
    "version": 3
   },
   "file_extension": ".py",
   "mimetype": "text/x-python",
   "name": "python",
   "nbconvert_exporter": "python",
   "pygments_lexer": "ipython3",
   "version": "3.10.4"
  },
  "orig_nbformat": 4,
  "vscode": {
   "interpreter": {
    "hash": "916dbcbb3f70747c44a77c7bcd40155683ae19c65e1c03b4aa3499c5328201f1"
   }
  }
 },
 "nbformat": 4,
 "nbformat_minor": 2
}
